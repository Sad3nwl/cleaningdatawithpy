{
 "cells": [
  {
   "cell_type": "code",
   "execution_count": 1,
   "id": "70c3f22e-19dc-4ad6-8ca1-20a49c5d8323",
   "metadata": {},
   "outputs": [],
   "source": [
    "import pandas as pd \n",
    "import matplotlib.pyplot as plt\n",
    "import seaborn as sns"
   ]
  },
  {
   "cell_type": "code",
   "execution_count": 3,
   "id": "b0b0ffd2-3c08-4ec7-9b58-4e7270000fab",
   "metadata": {},
   "outputs": [
    {
     "name": "stdout",
     "output_type": "stream",
     "text": [
      "       Country          Region  Happiness Rank  Happiness Score  \\\n",
      "0  Switzerland  Western Europe               1            7.587   \n",
      "1      Iceland  Western Europe               2            7.561   \n",
      "2      Denmark  Western Europe               3            7.527   \n",
      "3       Norway  Western Europe               4            7.522   \n",
      "4       Canada   North America               5            7.427   \n",
      "\n",
      "   Standard Error  Economy (GDP per Capita)   Family  \\\n",
      "0         0.03411                   1.39651  1.34951   \n",
      "1         0.04884                   1.30232  1.40223   \n",
      "2         0.03328                   1.32548  1.36058   \n",
      "3         0.03880                   1.45900  1.33095   \n",
      "4         0.03553                   1.32629  1.32261   \n",
      "\n",
      "   Health (Life Expectancy)  Freedom  Trust (Government Corruption)  \\\n",
      "0                   0.94143  0.66557                        0.41978   \n",
      "1                   0.94784  0.62877                        0.14145   \n",
      "2                   0.87464  0.64938                        0.48357   \n",
      "3                   0.88521  0.66973                        0.36503   \n",
      "4                   0.90563  0.63297                        0.32957   \n",
      "\n",
      "   Generosity  Dystopia Residual  \n",
      "0     0.29678            2.51738  \n",
      "1     0.43630            2.70201  \n",
      "2     0.34139            2.49204  \n",
      "3     0.34699            2.46531  \n",
      "4     0.45811            2.45176  \n",
      "<class 'pandas.core.frame.DataFrame'>\n",
      "RangeIndex: 158 entries, 0 to 157\n",
      "Data columns (total 12 columns):\n",
      " #   Column                         Non-Null Count  Dtype  \n",
      "---  ------                         --------------  -----  \n",
      " 0   Country                        158 non-null    object \n",
      " 1   Region                         158 non-null    object \n",
      " 2   Happiness Rank                 158 non-null    int64  \n",
      " 3   Happiness Score                158 non-null    float64\n",
      " 4   Standard Error                 158 non-null    float64\n",
      " 5   Economy (GDP per Capita)       158 non-null    float64\n",
      " 6   Family                         158 non-null    float64\n",
      " 7   Health (Life Expectancy)       158 non-null    float64\n",
      " 8   Freedom                        158 non-null    float64\n",
      " 9   Trust (Government Corruption)  158 non-null    float64\n",
      " 10  Generosity                     158 non-null    float64\n",
      " 11  Dystopia Residual              158 non-null    float64\n",
      "dtypes: float64(9), int64(1), object(2)\n",
      "memory usage: 14.9+ KB\n",
      "None\n"
     ]
    }
   ],
   "source": [
    "happines=pd.read_csv('happines2015.csv')\n",
    "print(happines.head())\n",
    "print(happines.info())      "
   ]
  },
  {
   "cell_type": "code",
   "execution_count": 6,
   "id": "9b40dfef-cabb-4136-a695-50e3aa969b7b",
   "metadata": {},
   "outputs": [
    {
     "name": "stdout",
     "output_type": "stream",
     "text": [
      "Top 2 happiest countries:\n",
      "        Country  Happiness Score\n",
      "0  Switzerland            7.587\n",
      "1      Iceland            7.561\n",
      "Bottom 2 happiest countries:\n",
      "      Country  Happiness Score\n",
      "157     Togo            2.839\n",
      "156  Burundi            2.905\n"
     ]
    }
   ],
   "source": [
    "#o\tFind the top 2 happiest countries and bottom 2 happiest countries.\n",
    "top_2=happines.nlargest(2,'Happiness Score')[['Country', 'Happiness Score']]\n",
    "bottom_2 = happines.nsmallest(2, 'Happiness Score')[['Country', 'Happiness Score']]\n",
    "print(\"Top 2 happiest countries:\\n\", top_2)\n",
    "print(\"Bottom 2 happiest countries:\\n\", bottom_2)"
   ]
  },
  {
   "cell_type": "code",
   "execution_count": 7,
   "id": "811fa3bc-c83a-45c7-bdb7-4c670e260839",
   "metadata": {},
   "outputs": [
    {
     "name": "stdout",
     "output_type": "stream",
     "text": [
      "Region with highest average happiness score: Australia and New Zealand\n"
     ]
    }
   ],
   "source": [
    "#o\tDetermine the region with the highest average happiness score\n",
    "Region_Avg = happines.groupby('Region')['Happiness Score'].mean()\n",
    "Top_region = Region_Avg.idxmax()\n",
    "print(\"Region with highest average happiness score:\", Top_region)"
   ]
  },
  {
   "cell_type": "code",
   "execution_count": 8,
   "id": "f92d8f9d-fee6-4d4c-863d-862e96f751bd",
   "metadata": {},
   "outputs": [
    {
     "name": "stdout",
     "output_type": "stream",
     "text": [
      "Factor most correlated with happiness: Economy (GDP per Capita)\n"
     ]
    }
   ],
   "source": [
    "#o\tIdentify which single factor (e.g., GDP, Health, Freedom) seems most strongly associated with happiness score.\n",
    "correlation =happines.corr(numeric_only=True)['Happiness Score'].drop('Happiness Score')\n",
    "top_factor = correlation.idxmax()\n",
    "print(\"Factor most correlated with happiness:\", top_factor)"
   ]
  },
  {
   "cell_type": "code",
   "execution_count": 13,
   "id": "6e3bcbd1-c1d6-4154-b7bf-2f2b0ef9b781",
   "metadata": {},
   "outputs": [],
   "source": [
    "# \"\"\"o\tCreate a new column: HAPPINESS_LEVEL\n",
    "# 1.\tHigh if score ≥ 7\n",
    "# 2.\tMedium if 5 ≤ score < 7\n",
    "# 3.\tLow if score < 5\n",
    " \n",
    "def happiness_level(score):\n",
    "    if score >= 7:\n",
    "        return \"High\"\n",
    "    elif score >= 5:\n",
    "        return \"Medium\"\n",
    "    else:\n",
    "        return \"Low\"\n",
    "\n",
    "happines['HAPPINESS_LEVEL'] = happines['Happiness Score'].apply(happiness_level)"
   ]
  },
  {
   "cell_type": "code",
   "execution_count": 14,
   "id": "cf8f7101-245f-496a-81e6-0a4d2fe20562",
   "metadata": {},
   "outputs": [
    {
     "name": "stdout",
     "output_type": "stream",
     "text": [
      "Happiness level counts:\n",
      " HAPPINESS_LEVEL\n",
      "Medium    78\n",
      "Low       65\n",
      "High      15\n",
      "Name: count, dtype: int64\n"
     ]
    }
   ],
   "source": [
    " # o\tCount how many countries fall into each category.\n",
    "level_counts = happines['HAPPINESS_LEVEL'].value_counts()\n",
    "print(\"Happiness level counts:\\n\", level_counts)"
   ]
  },
  {
   "cell_type": "code",
   "execution_count": null,
   "id": "b6f54256-daff-462c-9431-c53ebd7d5c52",
   "metadata": {},
   "outputs": [],
   "source": []
  }
 ],
 "metadata": {
  "kernelspec": {
   "display_name": "anaconda-panel-2023.05-py310",
   "language": "python",
   "name": "conda-env-anaconda-panel-2023.05-py310-py"
  },
  "language_info": {
   "codemirror_mode": {
    "name": "ipython",
    "version": 3
   },
   "file_extension": ".py",
   "mimetype": "text/x-python",
   "name": "python",
   "nbconvert_exporter": "python",
   "pygments_lexer": "ipython3",
   "version": "3.11.5"
  }
 },
 "nbformat": 4,
 "nbformat_minor": 5
}
